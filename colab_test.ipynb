{
  "nbformat": 4,
  "nbformat_minor": 0,
  "metadata": {
    "colab": {
      "provenance": [],
      "authorship_tag": "ABX9TyNvf4vfEa+LkKCBcxjZNA7Y",
      "include_colab_link": true
    },
    "kernelspec": {
      "name": "python3",
      "display_name": "Python 3"
    },
    "language_info": {
      "name": "python"
    }
  },
  "cells": [
    {
      "cell_type": "markdown",
      "metadata": {
        "id": "view-in-github",
        "colab_type": "text"
      },
      "source": [
        "<a href=\"https://colab.research.google.com/github/tomeuff/data_science_do_testow/blob/main/colab_test.ipynb\" target=\"_parent\"><img src=\"https://colab.research.google.com/assets/colab-badge.svg\" alt=\"Open In Colab\"/></a>"
      ]
    },
    {
      "cell_type": "code",
      "execution_count": null,
      "metadata": {
        "id": "gaxpEjTixBgU"
      },
      "outputs": [],
      "source": [
        "print('xd')"
      ]
    },
    {
      "cell_type": "markdown",
      "source": [
        "Ten kod wyświetla liczby od 1 do 100"
      ],
      "metadata": {
        "id": "_jHkj1xwxXvi"
      }
    },
    {
      "cell_type": "code",
      "source": [
        "for i in range(1, 101):\n",
        "  print(i, end = ', ')"
      ],
      "metadata": {
        "id": "DYHZ89fExcZC"
      },
      "execution_count": null,
      "outputs": []
    }
  ]
}