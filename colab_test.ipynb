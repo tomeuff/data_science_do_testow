{
  "nbformat": 4,
  "nbformat_minor": 0,
  "metadata": {
    "colab": {
      "provenance": [],
      "authorship_tag": "ABX9TyPzL8GqpROFxT1dvqMgv/yb",
      "include_colab_link": true
    },
    "kernelspec": {
      "name": "python3",
      "display_name": "Python 3"
    },
    "language_info": {
      "name": "python"
    }
  },
  "cells": [
    {
      "cell_type": "markdown",
      "metadata": {
        "id": "view-in-github",
        "colab_type": "text"
      },
      "source": [
        "<a href=\"https://colab.research.google.com/github/tomeuff/data_science_do_testow/blob/main/colab_test.ipynb\" target=\"_parent\"><img src=\"https://colab.research.google.com/assets/colab-badge.svg\" alt=\"Open In Colab\"/></a>"
      ]
    },
    {
      "cell_type": "code",
      "execution_count": null,
      "metadata": {
        "id": "gaxpEjTixBgU"
      },
      "outputs": [],
      "source": [
        "print('xd')"
      ]
    },
    {
      "cell_type": "markdown",
      "source": [
        "Ten kod wyświetla liczby od 1 do 100"
      ],
      "metadata": {
        "id": "_jHkj1xwxXvi"
      }
    },
    {
      "cell_type": "code",
      "source": [
        "for i in range(1, 101):\n",
        "  print(i, end = ', ')"
      ],
      "metadata": {
        "id": "DYHZ89fExcZC"
      },
      "execution_count": null,
      "outputs": []
    },
    {
      "cell_type": "markdown",
      "source": [
        "Ten kod tworzy tablicę typu ndarray"
      ],
      "metadata": {
        "id": "w0ZuNIs0yaJU"
      }
    },
    {
      "cell_type": "code",
      "source": [
        "import numpy as np\n",
        "tablica1D = np.array([2, 9, 4, 7])\n",
        "print(tablica1D)"
      ],
      "metadata": {
        "id": "Zd7hxvk0ydQG",
        "outputId": "0b33ec7e-6056-4c35-a6fe-39f69a9399c8",
        "colab": {
          "base_uri": "https://localhost:8080/"
        }
      },
      "execution_count": 1,
      "outputs": [
        {
          "output_type": "stream",
          "name": "stdout",
          "text": [
            "[2 9 4 7]\n"
          ]
        }
      ]
    }
  ]
}